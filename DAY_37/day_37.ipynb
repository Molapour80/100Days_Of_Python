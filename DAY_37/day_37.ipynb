{
 "cells": [
  {
   "cell_type": "code",
   "execution_count": 1,
   "metadata": {},
   "outputs": [
    {
     "name": "stdout",
     "output_type": "stream",
     "text": [
      "* * * * * * * \n",
      "* * * * * * * \n",
      "* * * * * * * \n",
      "* * * * * * * \n",
      "* * * * * * * \n",
      "* * * * * * * \n",
      "* * * * * * * \n"
     ]
    }
   ],
   "source": [
    "size = 7\n",
    "for i in range(size):\n",
    "    print(\"* \"*size)"
   ]
  },
  {
   "cell_type": "code",
   "execution_count": 2,
   "metadata": {},
   "outputs": [
    {
     "name": "stdout",
     "output_type": "stream",
     "text": [
      "\n",
      "*\n",
      "**\n",
      "***\n",
      "****\n",
      "*****\n",
      "******\n"
     ]
    }
   ],
   "source": [
    "size = 7 \n",
    "for i in range(size):\n",
    "    print(\"*\"*i)"
   ]
  },
  {
   "cell_type": "code",
   "execution_count": 3,
   "metadata": {},
   "outputs": [
    {
     "name": "stdout",
     "output_type": "stream",
     "text": [
      "   *****   \n",
      "  *     *  \n",
      " *       * \n",
      "*         *\n",
      "*         *\n",
      "*         *\n",
      "*         *\n",
      "*         *\n",
      " *       * \n",
      "  *     *  \n",
      "   *****   \n"
     ]
    }
   ],
   "source": [
    "import math\n",
    "radius = 5\n",
    "for y in range(-radius,radius+1):\n",
    "    for x in range(-2*radius,2*radius+1,2):\n",
    "        if round(math.sqrt((x/2)**2+y**2)) == radius:\n",
    "            print('*',end='')\n",
    "        else:\n",
    "            print(' ',end='')\n",
    "    print()"
   ]
  }
 ],
 "metadata": {
  "kernelspec": {
   "display_name": "Python 3",
   "language": "python",
   "name": "python3"
  },
  "language_info": {
   "codemirror_mode": {
    "name": "ipython",
    "version": 3
   },
   "file_extension": ".py",
   "mimetype": "text/x-python",
   "name": "python",
   "nbconvert_exporter": "python",
   "pygments_lexer": "ipython3",
   "version": "3.12.1"
  }
 },
 "nbformat": 4,
 "nbformat_minor": 2
}
