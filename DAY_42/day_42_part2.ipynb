{
 "cells": [
  {
   "cell_type": "markdown",
   "id": "bcd02021",
   "metadata": {},
   "source": [
    "# IF"
   ]
  },
  {
   "cell_type": "code",
   "execution_count": 3,
   "id": "3d8d9357",
   "metadata": {},
   "outputs": [
    {
     "name": "stdout",
     "output_type": "stream",
     "text": [
      "12 20\n"
     ]
    }
   ],
   "source": [
    "x = 20\n",
    "y = 12\n",
    "temp = x\n",
    "x = y\n",
    "y = temp \n",
    "print(x , y)"
   ]
  },
  {
   "cell_type": "code",
   "execution_count": 5,
   "id": "f243caad",
   "metadata": {},
   "outputs": [
    {
     "name": "stdout",
     "output_type": "stream",
     "text": [
      "12 20\n"
     ]
    }
   ],
   "source": [
    "x = 20\n",
    "y = 12\n",
    "x,y = y,x \n",
    "print(x,y)"
   ]
  },
  {
   "cell_type": "code",
   "execution_count": 7,
   "id": "2d3d3ffc",
   "metadata": {},
   "outputs": [
    {
     "name": "stdout",
     "output_type": "stream",
     "text": [
      "20\n"
     ]
    }
   ],
   "source": [
    "num1 = int(input(\"Enter your number1:\"))\n",
    "num2 = int(input(\"Enter your number2:\"))\n",
    "if num1 >= num2 :\n",
    "    print(num1)\n",
    "if num1 <= num2 :\n",
    "    print(num2)\n"
   ]
  },
  {
   "cell_type": "code",
   "execution_count": null,
   "id": "b21fa4c2",
   "metadata": {},
   "outputs": [],
   "source": [
    "## if book == \"python\":\n",
    "##      ............. \n",
    "## else if book == \"java\":\n",
    "##      ..............\n",
    "## else if book == \"c++\":\n",
    "##      ..............\n",
    "## else if book == \"js\":\n",
    "##      ..............\n",
    "## else:\n",
    "##      .............."
   ]
  },
  {
   "cell_type": "code",
   "execution_count": 9,
   "id": "20bd7b99",
   "metadata": {},
   "outputs": [
    {
     "name": "stdout",
     "output_type": "stream",
     "text": [
      "18\n"
     ]
    }
   ],
   "source": [
    "num1 = int(input(\"Enter your number1:\"))\n",
    "num2 = int(input(\"Enter your number2:\"))\n",
    "if num2 >= num1:\n",
    "    print(num2)\n",
    "else:\n",
    "    print(num1)"
   ]
  }
 ],
 "metadata": {
  "kernelspec": {
   "display_name": "Python 3",
   "language": "python",
   "name": "python3"
  },
  "language_info": {
   "codemirror_mode": {
    "name": "ipython",
    "version": 3
   },
   "file_extension": ".py",
   "mimetype": "text/x-python",
   "name": "python",
   "nbconvert_exporter": "python",
   "pygments_lexer": "ipython3",
   "version": "3.12.1"
  }
 },
 "nbformat": 4,
 "nbformat_minor": 5
}
