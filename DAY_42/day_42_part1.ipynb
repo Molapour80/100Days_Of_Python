{
 "cells": [
  {
   "cell_type": "markdown",
   "id": "0864ef32",
   "metadata": {},
   "source": [
    "## Type:"
   ]
  },
  {
   "cell_type": "code",
   "execution_count": null,
   "id": "f7242c60",
   "metadata": {},
   "outputs": [],
   "source": [
    "# camelCase\n",
    "pythonScore = 20\n",
    "\n",
    "# pascalcase\n",
    "python = 18\n",
    "\n",
    "#snale_case\n",
    "python_score =20\n",
    "\n"
   ]
  },
  {
   "cell_type": "code",
   "execution_count": null,
   "id": "11869e9e",
   "metadata": {},
   "outputs": [],
   "source": [
    "## type:\n",
    "# int\n",
    "t1 = 20 \n",
    "\n",
    "# float \n",
    "t2 = 20.0\n",
    "\n",
    "#str\n",
    "t3 = \"python\"\n",
    "\n",
    "#bool\n",
    "var1 = True\n",
    "var2 = False "
   ]
  },
  {
   "cell_type": "code",
   "execution_count": 2,
   "id": "bc40bc05",
   "metadata": {},
   "outputs": [
    {
     "name": "stdout",
     "output_type": "stream",
     "text": [
      "<class 'int'>\n",
      "<class 'str'>\n"
     ]
    }
   ],
   "source": [
    "# fun(type)\n",
    "t1 = 20 \n",
    "t2 =\"C++\"\n",
    "print(type(t1))\n",
    "print(type(t2))"
   ]
  },
  {
   "cell_type": "code",
   "execution_count": 5,
   "id": "1c8d691d",
   "metadata": {},
   "outputs": [
    {
     "name": "stdout",
     "output_type": "stream",
     "text": [
      "True\n",
      "False\n"
     ]
    }
   ],
   "source": [
    "#or,and,not\n",
    "num1 =10 \n",
    "num2 = 20 \n",
    "num3 = 30\n",
    "print(num1 > num2 or num2< num3) # all condition be false\n",
    "print(num1 > num2 and num2< num3)# all condition be true\n"
   ]
  },
  {
   "cell_type": "code",
   "execution_count": 11,
   "id": "c0edb8d5",
   "metadata": {},
   "outputs": [
    {
     "name": "stdout",
     "output_type": "stream",
     "text": [
      "20\n",
      "3\n",
      "1\n"
     ]
    }
   ],
   "source": [
    "## casting:\n",
    "#int:\n",
    "t1 = 20.0\n",
    "print(int(t1))\n",
    "t2 = \"3\"\n",
    "print(int(t2))\n",
    "t3 = True\n",
    "print(int(t3))\n",
    "#t5 = \"gt2\"    #ERROR\n",
    "#print(int(t5))\n"
   ]
  },
  {
   "cell_type": "code",
   "execution_count": 12,
   "id": "f756445f",
   "metadata": {},
   "outputs": [
    {
     "name": "stdout",
     "output_type": "stream",
     "text": [
      "20.0\n",
      "3.0\n",
      "1.0\n"
     ]
    }
   ],
   "source": [
    "# float:\n",
    "t1 = 20.0\n",
    "print(float(t1))\n",
    "t2 = 3\n",
    "print(float(t2))\n",
    "t3 = True\n",
    "print(float(t3))\n"
   ]
  },
  {
   "cell_type": "code",
   "execution_count": null,
   "id": "b48301a2",
   "metadata": {},
   "outputs": [],
   "source": [
    "#str"
   ]
  },
  {
   "cell_type": "code",
   "execution_count": 14,
   "id": "19471f51",
   "metadata": {},
   "outputs": [
    {
     "name": "stdout",
     "output_type": "stream",
     "text": [
      "True\n",
      "True\n",
      "True\n"
     ]
    }
   ],
   "source": [
    "# bool\n",
    "t1 = True\n",
    "print(bool(t1))\n",
    "t2 = \"3\"\n",
    "print(bool(t2))\n",
    "t3 = \" \"\n",
    "print(bool(t3))"
   ]
  },
  {
   "cell_type": "code",
   "execution_count": 18,
   "id": "40661257",
   "metadata": {},
   "outputs": [
    {
     "name": "stdout",
     "output_type": "stream",
     "text": [
      "40\n"
     ]
    }
   ],
   "source": [
    "t5 =\"40.0\"\n",
    "t5 = float(t5)\n",
    "print(int(t5))"
   ]
  },
  {
   "cell_type": "code",
   "execution_count": 20,
   "id": "6e9cb3ec",
   "metadata": {},
   "outputs": [
    {
     "name": "stdout",
     "output_type": "stream",
     "text": [
      "red\n"
     ]
    }
   ],
   "source": [
    "c_color = \"\"\n",
    "s_color = \"red\"\n",
    "print(c_color or s_color)"
   ]
  }
 ],
 "metadata": {
  "kernelspec": {
   "display_name": "Python 3",
   "language": "python",
   "name": "python3"
  },
  "language_info": {
   "codemirror_mode": {
    "name": "ipython",
    "version": 3
   },
   "file_extension": ".py",
   "mimetype": "text/x-python",
   "name": "python",
   "nbconvert_exporter": "python",
   "pygments_lexer": "ipython3",
   "version": "3.12.1"
  }
 },
 "nbformat": 4,
 "nbformat_minor": 5
}
